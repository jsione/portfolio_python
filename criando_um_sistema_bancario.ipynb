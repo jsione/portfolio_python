{
 "cells": [
  {
   "cell_type": "code",
   "execution_count": 1,
   "metadata": {},
   "outputs": [],
   "source": [
    "menu = \"\"\"\n",
    "\n",
    "[0] Depósito\n",
    "[1] Saque\n",
    "[2] Extrato\n",
    "[X] Sair\n",
    "\"\"\""
   ]
  },
  {
   "cell_type": "code",
   "execution_count": 2,
   "metadata": {},
   "outputs": [],
   "source": [
    "saldo = 0\n",
    "limite = 500\n",
    "extrato = \"\"\n",
    "numero_saques = 0\n",
    "LIMITE_SAQUE = 3"
   ]
  },
  {
   "cell_type": "code",
   "execution_count": null,
   "metadata": {},
   "outputs": [],
   "source": [
    "while True:\n",
    "    \n",
    "    opcao = input(menu)\n",
    "    \n",
    "    if opcao == '0':\n",
    "        valor = float(input(\"Informe o valor do depósito: \"))\n",
    "        \n",
    "        if valor > 0:\n",
    "            saldo += valor\n",
    "            extrato += f'Depósito de R$ {valor:.2f}'\n",
    "        \n",
    "        else:\n",
    "            print('O valor informado é inválido.')\n",
    "            \n",
    "    elif opcao == '1':\n",
    "        valor = float(input('Informe o valor do saque desejado: '))\n",
    "        \n",
    "        excedeu_saldo = valor > saldo\n",
    "        \n",
    "        excedeu_limite = valor > limite\n",
    "        \n",
    "        excedeu_saques = numero_saques >= LIMITE_SAQUE\n",
    "        \n",
    "        if excedeu_saldo:\n",
    "            print('Saldo insuficiente')\n",
    "        \n",
    "        elif excedeu_limite:\n",
    "            print('Você excedeu o limite do valor de saque')\n",
    "            \n",
    "        elif excedeu_saques:\n",
    "            print('Você excedeu o limite de saques')\n",
    "        \n",
    "        elif valor > 0:\n",
    "            saldo -= valor\n",
    "            extrato = f'Saque de R$ {valor:.2f} autorizado'\n",
    "            numero_saques += 1\n",
    "            \n",
    "        else:\n",
    "            print('Valor inválido!')\n",
    "            \n",
    "    elif opcao == '2':\n",
    "        print('\\n --------------------EXTRATO--------------------')\n",
    "        print('Não foram realizas movimentações.' if not extrato else extrato)\n",
    "        print(f'\\n Saldo: R$ {valor:.2f}')\n",
    "        print('\\n -----------------------------------------------')\n",
    "        \n",
    "    elif opcao == 'X':\n",
    "        break\n",
    "    \n",
    "    else:\n",
    "        print('Opção incorreta. Informe uma das opções do menu.')"
   ]
  },
  {
   "cell_type": "code",
   "execution_count": null,
   "metadata": {},
   "outputs": [],
   "source": []
  },
  {
   "cell_type": "code",
   "execution_count": null,
   "metadata": {},
   "outputs": [],
   "source": []
  },
  {
   "cell_type": "code",
   "execution_count": null,
   "metadata": {},
   "outputs": [],
   "source": []
  }
 ],
 "metadata": {
  "kernelspec": {
   "display_name": "Python 3 (ipykernel)",
   "language": "python",
   "name": "python3"
  },
  "language_info": {
   "codemirror_mode": {
    "name": "ipython",
    "version": 3
   },
   "file_extension": ".py",
   "mimetype": "text/x-python",
   "name": "python",
   "nbconvert_exporter": "python",
   "pygments_lexer": "ipython3",
   "version": "3.9.12"
  }
 },
 "nbformat": 4,
 "nbformat_minor": 2
}
